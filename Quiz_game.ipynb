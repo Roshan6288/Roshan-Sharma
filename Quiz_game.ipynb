{
  "nbformat": 4,
  "nbformat_minor": 0,
  "metadata": {
    "colab": {
      "provenance": [],
      "authorship_tag": "ABX9TyOQoP+gu8yPaW6IaR3AsVkO",
      "include_colab_link": true
    },
    "kernelspec": {
      "name": "python3",
      "display_name": "Python 3"
    },
    "language_info": {
      "name": "python"
    }
  },
  "cells": [
    {
      "cell_type": "markdown",
      "metadata": {
        "id": "view-in-github",
        "colab_type": "text"
      },
      "source": [
        "<a href=\"https://colab.research.google.com/github/Roshan6288/Roshan-Sharma/blob/main/Quiz_game.ipynb\" target=\"_parent\"><img src=\"https://colab.research.google.com/assets/colab-badge.svg\" alt=\"Open In Colab\"/></a>"
      ]
    },
    {
      "cell_type": "code",
      "execution_count": 1,
      "metadata": {
        "colab": {
          "base_uri": "https://localhost:8080/"
        },
        "id": "4U4EVwy6kbVj",
        "outputId": "560b5568-3455-4350-cc63-4f79ba9d5207"
      },
      "outputs": [
        {
          "output_type": "stream",
          "name": "stdout",
          "text": [
            "Welcome to my computer quiz!\n",
            "Do you want to play? yes\n",
            "Okay! Let's play :)\n",
            "What does CPU stand for? central procesing unit\n",
            "Incorrect!\n",
            "What does GPU stand for? graphic prossecing unit\n",
            "Incorrect!\n",
            "What does RAM stand for? random access memory\n",
            "Correct!\n",
            "What does PSU stand for? power suply\n",
            "Incorrect!\n",
            "You got 1 questions correct!\n",
            "You got 25.0%.\n"
          ]
        }
      ],
      "source": [
        "print(\"Welcome to my computer quiz!\")\n",
        "\n",
        "playing = input(\"Do you want to play? \")\n",
        "\n",
        "if playing.lower() != \"yes\":\n",
        "    quit()\n",
        "\n",
        "print(\"Okay! Let's play :)\")\n",
        "score = 0\n",
        "\n",
        "answer = input(\"What does CPU stand for? \")\n",
        "if answer.lower() == \"central processing unit\":\n",
        "    print('Correct!')\n",
        "    score += 1\n",
        "else:\n",
        "    print(\"Incorrect!\")\n",
        "\n",
        "answer = input(\"What does GPU stand for? \")\n",
        "if answer.lower() == \"graphics processing unit\":\n",
        "    print('Correct!')\n",
        "    score += 1\n",
        "else:\n",
        "    print(\"Incorrect!\")\n",
        "\n",
        "answer = input(\"What does RAM stand for? \")\n",
        "if answer.lower() == \"random access memory\":\n",
        "    print('Correct!')\n",
        "    score += 1\n",
        "else:\n",
        "    print(\"Incorrect!\")\n",
        "\n",
        "answer = input(\"What does PSU stand for? \")\n",
        "if answer.lower() == \"power supply\":\n",
        "    print('Correct!')\n",
        "    score += 1\n",
        "else:\n",
        "    print(\"Incorrect!\")\n",
        "\n",
        "print(\"You got \" + str(score) + \" questions correct!\")\n",
        "print(\"You got \" + str((score / 4) * 100) + \"%.\")"
      ]
    }
  ]
}